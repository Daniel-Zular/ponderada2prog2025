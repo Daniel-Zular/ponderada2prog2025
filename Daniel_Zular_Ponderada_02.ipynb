{
  "nbformat": 4,
  "nbformat_minor": 0,
  "metadata": {
    "colab": {
      "provenance": []
    },
    "kernelspec": {
      "name": "python3",
      "display_name": "Python 3"
    },
    "language_info": {
      "name": "python"
    }
  },
  "cells": [
    {
      "cell_type": "markdown",
      "source": [
        "###**Descrição da ponderada:**\n",
        "\n",
        "Objetivo: Otimizar um modelo de rede neural pré-treinado para detecção de fraudes em cartões de crédito. Aplicar técnicas avançadas de ajuste fino de hiperparâmetros, como grid search e random search, com o objetivo de aprimorar as métricas de desempenho do modelo, incluindo precisão, recall, F1-score e AUC-ROC. A atividade também exige uma comparação entre o modelo otimizado e o modelo original, permitindo avaliar o impacto das modificações nos hiperparâmetros sobre o desempenho geral."
      ],
      "metadata": {
        "id": "mPZA5KjWbkez"
      }
    },
    {
      "cell_type": "code",
      "source": [
        "%pip install gdown\n",
        "import gdown"
      ],
      "metadata": {
        "id": "ewQolAMWMeqp",
        "colab": {
          "base_uri": "https://localhost:8080/"
        },
        "outputId": "14cc470e-40ce-4ca7-e246-d7ace9cd22bf"
      },
      "execution_count": null,
      "outputs": [
        {
          "output_type": "stream",
          "name": "stdout",
          "text": [
            "Requirement already satisfied: gdown in /usr/local/lib/python3.12/dist-packages (5.2.0)\n",
            "Requirement already satisfied: beautifulsoup4 in /usr/local/lib/python3.12/dist-packages (from gdown) (4.13.5)\n",
            "Requirement already satisfied: filelock in /usr/local/lib/python3.12/dist-packages (from gdown) (3.19.1)\n",
            "Requirement already satisfied: requests[socks] in /usr/local/lib/python3.12/dist-packages (from gdown) (2.32.4)\n",
            "Requirement already satisfied: tqdm in /usr/local/lib/python3.12/dist-packages (from gdown) (4.67.1)\n",
            "Requirement already satisfied: soupsieve>1.2 in /usr/local/lib/python3.12/dist-packages (from beautifulsoup4->gdown) (2.7)\n",
            "Requirement already satisfied: typing-extensions>=4.0.0 in /usr/local/lib/python3.12/dist-packages (from beautifulsoup4->gdown) (4.15.0)\n",
            "Requirement already satisfied: charset_normalizer<4,>=2 in /usr/local/lib/python3.12/dist-packages (from requests[socks]->gdown) (3.4.3)\n",
            "Requirement already satisfied: idna<4,>=2.5 in /usr/local/lib/python3.12/dist-packages (from requests[socks]->gdown) (3.10)\n",
            "Requirement already satisfied: urllib3<3,>=1.21.1 in /usr/local/lib/python3.12/dist-packages (from requests[socks]->gdown) (2.5.0)\n",
            "Requirement already satisfied: certifi>=2017.4.17 in /usr/local/lib/python3.12/dist-packages (from requests[socks]->gdown) (2025.8.3)\n",
            "Requirement already satisfied: PySocks!=1.5.7,>=1.5.6 in /usr/local/lib/python3.12/dist-packages (from requests[socks]->gdown) (1.7.1)\n"
          ]
        }
      ]
    },
    {
      "cell_type": "code",
      "source": [
        "arquivo_destino_colab = \"dataset.csv\"\n",
        "doc_id = \"1u_OWAPkIdgJw1ah5xP_dGBFMSANxjxEl\"\n",
        "URL = f\"https://drive.google.com/uc?id={doc_id}\"\n",
        "gdown.download(URL, arquivo_destino_colab, quiet=False)"
      ],
      "metadata": {
        "id": "kAlRxjfkMezc",
        "colab": {
          "base_uri": "https://localhost:8080/",
          "height": 142
        },
        "outputId": "7c3557ce-a6e0-4497-ed12-8dff95b63343"
      },
      "execution_count": null,
      "outputs": [
        {
          "output_type": "stream",
          "name": "stderr",
          "text": [
            "Downloading...\n",
            "From (original): https://drive.google.com/uc?id=1u_OWAPkIdgJw1ah5xP_dGBFMSANxjxEl\n",
            "From (redirected): https://drive.google.com/uc?id=1u_OWAPkIdgJw1ah5xP_dGBFMSANxjxEl&confirm=t&uuid=bc185924-73ee-4bd4-a749-f13247baa476\n",
            "To: /content/dataset.csv\n",
            "100%|██████████| 151M/151M [00:02<00:00, 55.7MB/s]\n"
          ]
        },
        {
          "output_type": "execute_result",
          "data": {
            "text/plain": [
              "'dataset.csv'"
            ],
            "application/vnd.google.colaboratory.intrinsic+json": {
              "type": "string"
            }
          },
          "metadata": {},
          "execution_count": 2
        }
      ]
    },
    {
      "cell_type": "markdown",
      "source": [
        "# Detecção de Fraudes em Cartões — MLP + Tuning\n",
        "**Passos:**\n",
        "1. Carregar dados e checar distribuição da classe.\n",
        "2. Split estratificado (treino/teste).\n",
        "3. Pré-processamento (padronizar `Amount` e `Time`).\n",
        "4. Baseline MLP (Keras + scikeras) + métricas.\n",
        "5. GridSearchCV (AUC como *scoring*).\n",
        "6. RandomizedSearchCV.\n",
        "7. Comparação final e conclusões.\n"
      ],
      "metadata": {
        "id": "AuGGa7PBuJNg"
      }
    },
    {
      "cell_type": "code",
      "source": [
        "import os, sys, math, json, warnings, numpy as np, pandas as pd\n",
        "warnings.filterwarnings(\"ignore\")\n",
        "\n",
        "import matplotlib.pyplot as plt\n",
        "from sklearn.model_selection import train_test_split, StratifiedKFold, GridSearchCV, RandomizedSearchCV\n",
        "from sklearn.preprocessing import StandardScaler\n",
        "from sklearn.compose import ColumnTransformer\n",
        "from sklearn.pipeline import Pipeline\n",
        "from sklearn.metrics import (\n",
        "    accuracy_score, precision_recall_fscore_support, roc_auc_score, classification_report, roc_curve\n",
        ")\n",
        "from sklearn.utils.class_weight import compute_class_weight\n",
        "\n",
        "from scikeras.wrappers import KerasClassifier\n",
        "\n",
        "import tensorflow as tf\n",
        "tf.get_logger().setLevel(\"ERROR\")\n",
        "\n",
        "SEED = 42\n",
        "np.random.seed(SEED)\n",
        "tf.random.set_seed(SEED)\n"
      ],
      "metadata": {
        "id": "1fZo3UV-uQq7"
      },
      "execution_count": null,
      "outputs": []
    },
    {
      "cell_type": "markdown",
      "source": [
        "## Carregar dados e checar distribuição\n",
        "\n",
        "- Lê `dataset.csv` (já baixado na pasta de trabalho).\n",
        "- Se não existir, tenta baixar via **gdown** usando o `doc_id` (ajuste se necessário).\n",
        "- Mostra `shape`, amostra e distribuição de `Class`.\n"
      ],
      "metadata": {
        "id": "Kt5ti5piubE-"
      }
    },
    {
      "cell_type": "code",
      "source": [
        "\n",
        "DATA_PATH = \"dataset.csv\"\n",
        "\n",
        "if not os.path.exists(DATA_PATH):\n",
        "    try:\n",
        "        import gdown\n",
        "        doc_id = \"1u_QWAPKIdgJwlahxSp_dGBFfASNxjxEl\"\n",
        "        url = f\"https://drive.google.com/uc?id={doc_id}\"\n",
        "        gdown.download(url, DATA_PATH, quiet=False)\n",
        "    except Exception as e:\n",
        "        raise\n",
        "\n",
        "df = pd.read_csv(DATA_PATH)\n",
        "print(df.shape)\n",
        "display(df.head(3))\n",
        "\n",
        "print(\"\\nDistribuição da classe (0=legítima, 1=fraude):\")\n",
        "display(df[\"Class\"].value_counts(normalize=True).rename(\"proporção (%)\")*100)\n"
      ],
      "metadata": {
        "colab": {
          "base_uri": "https://localhost:8080/",
          "height": 406
        },
        "id": "pn_Twk6uuduq",
        "outputId": "ec056347-491d-43eb-9d06-a56a95f7de7c"
      },
      "execution_count": null,
      "outputs": [
        {
          "output_type": "stream",
          "name": "stdout",
          "text": [
            "(284807, 31)\n"
          ]
        },
        {
          "output_type": "display_data",
          "data": {
            "text/plain": [
              "   Time        V1        V2        V3        V4        V5        V6        V7  \\\n",
              "0   0.0 -1.359807 -0.072781  2.536347  1.378155 -0.338321  0.462388  0.239599   \n",
              "1   0.0  1.191857  0.266151  0.166480  0.448154  0.060018 -0.082361 -0.078803   \n",
              "2   1.0 -1.358354 -1.340163  1.773209  0.379780 -0.503198  1.800499  0.791461   \n",
              "\n",
              "         V8        V9  ...       V21       V22       V23       V24       V25  \\\n",
              "0  0.098698  0.363787  ... -0.018307  0.277838 -0.110474  0.066928  0.128539   \n",
              "1  0.085102 -0.255425  ... -0.225775 -0.638672  0.101288 -0.339846  0.167170   \n",
              "2  0.247676 -1.514654  ...  0.247998  0.771679  0.909412 -0.689281 -0.327642   \n",
              "\n",
              "        V26       V27       V28  Amount  Class  \n",
              "0 -0.189115  0.133558 -0.021053  149.62      0  \n",
              "1  0.125895 -0.008983  0.014724    2.69      0  \n",
              "2 -0.139097 -0.055353 -0.059752  378.66      0  \n",
              "\n",
              "[3 rows x 31 columns]"
            ],
            "text/html": [
              "\n",
              "  <div id=\"df-5bc648ca-29ae-48a5-a494-72f1aa32c561\" class=\"colab-df-container\">\n",
              "    <div>\n",
              "<style scoped>\n",
              "    .dataframe tbody tr th:only-of-type {\n",
              "        vertical-align: middle;\n",
              "    }\n",
              "\n",
              "    .dataframe tbody tr th {\n",
              "        vertical-align: top;\n",
              "    }\n",
              "\n",
              "    .dataframe thead th {\n",
              "        text-align: right;\n",
              "    }\n",
              "</style>\n",
              "<table border=\"1\" class=\"dataframe\">\n",
              "  <thead>\n",
              "    <tr style=\"text-align: right;\">\n",
              "      <th></th>\n",
              "      <th>Time</th>\n",
              "      <th>V1</th>\n",
              "      <th>V2</th>\n",
              "      <th>V3</th>\n",
              "      <th>V4</th>\n",
              "      <th>V5</th>\n",
              "      <th>V6</th>\n",
              "      <th>V7</th>\n",
              "      <th>V8</th>\n",
              "      <th>V9</th>\n",
              "      <th>...</th>\n",
              "      <th>V21</th>\n",
              "      <th>V22</th>\n",
              "      <th>V23</th>\n",
              "      <th>V24</th>\n",
              "      <th>V25</th>\n",
              "      <th>V26</th>\n",
              "      <th>V27</th>\n",
              "      <th>V28</th>\n",
              "      <th>Amount</th>\n",
              "      <th>Class</th>\n",
              "    </tr>\n",
              "  </thead>\n",
              "  <tbody>\n",
              "    <tr>\n",
              "      <th>0</th>\n",
              "      <td>0.0</td>\n",
              "      <td>-1.359807</td>\n",
              "      <td>-0.072781</td>\n",
              "      <td>2.536347</td>\n",
              "      <td>1.378155</td>\n",
              "      <td>-0.338321</td>\n",
              "      <td>0.462388</td>\n",
              "      <td>0.239599</td>\n",
              "      <td>0.098698</td>\n",
              "      <td>0.363787</td>\n",
              "      <td>...</td>\n",
              "      <td>-0.018307</td>\n",
              "      <td>0.277838</td>\n",
              "      <td>-0.110474</td>\n",
              "      <td>0.066928</td>\n",
              "      <td>0.128539</td>\n",
              "      <td>-0.189115</td>\n",
              "      <td>0.133558</td>\n",
              "      <td>-0.021053</td>\n",
              "      <td>149.62</td>\n",
              "      <td>0</td>\n",
              "    </tr>\n",
              "    <tr>\n",
              "      <th>1</th>\n",
              "      <td>0.0</td>\n",
              "      <td>1.191857</td>\n",
              "      <td>0.266151</td>\n",
              "      <td>0.166480</td>\n",
              "      <td>0.448154</td>\n",
              "      <td>0.060018</td>\n",
              "      <td>-0.082361</td>\n",
              "      <td>-0.078803</td>\n",
              "      <td>0.085102</td>\n",
              "      <td>-0.255425</td>\n",
              "      <td>...</td>\n",
              "      <td>-0.225775</td>\n",
              "      <td>-0.638672</td>\n",
              "      <td>0.101288</td>\n",
              "      <td>-0.339846</td>\n",
              "      <td>0.167170</td>\n",
              "      <td>0.125895</td>\n",
              "      <td>-0.008983</td>\n",
              "      <td>0.014724</td>\n",
              "      <td>2.69</td>\n",
              "      <td>0</td>\n",
              "    </tr>\n",
              "    <tr>\n",
              "      <th>2</th>\n",
              "      <td>1.0</td>\n",
              "      <td>-1.358354</td>\n",
              "      <td>-1.340163</td>\n",
              "      <td>1.773209</td>\n",
              "      <td>0.379780</td>\n",
              "      <td>-0.503198</td>\n",
              "      <td>1.800499</td>\n",
              "      <td>0.791461</td>\n",
              "      <td>0.247676</td>\n",
              "      <td>-1.514654</td>\n",
              "      <td>...</td>\n",
              "      <td>0.247998</td>\n",
              "      <td>0.771679</td>\n",
              "      <td>0.909412</td>\n",
              "      <td>-0.689281</td>\n",
              "      <td>-0.327642</td>\n",
              "      <td>-0.139097</td>\n",
              "      <td>-0.055353</td>\n",
              "      <td>-0.059752</td>\n",
              "      <td>378.66</td>\n",
              "      <td>0</td>\n",
              "    </tr>\n",
              "  </tbody>\n",
              "</table>\n",
              "<p>3 rows × 31 columns</p>\n",
              "</div>\n",
              "    <div class=\"colab-df-buttons\">\n",
              "\n",
              "  <div class=\"colab-df-container\">\n",
              "    <button class=\"colab-df-convert\" onclick=\"convertToInteractive('df-5bc648ca-29ae-48a5-a494-72f1aa32c561')\"\n",
              "            title=\"Convert this dataframe to an interactive table.\"\n",
              "            style=\"display:none;\">\n",
              "\n",
              "  <svg xmlns=\"http://www.w3.org/2000/svg\" height=\"24px\" viewBox=\"0 -960 960 960\">\n",
              "    <path d=\"M120-120v-720h720v720H120Zm60-500h600v-160H180v160Zm220 220h160v-160H400v160Zm0 220h160v-160H400v160ZM180-400h160v-160H180v160Zm440 0h160v-160H620v160ZM180-180h160v-160H180v160Zm440 0h160v-160H620v160Z\"/>\n",
              "  </svg>\n",
              "    </button>\n",
              "\n",
              "  <style>\n",
              "    .colab-df-container {\n",
              "      display:flex;\n",
              "      gap: 12px;\n",
              "    }\n",
              "\n",
              "    .colab-df-convert {\n",
              "      background-color: #E8F0FE;\n",
              "      border: none;\n",
              "      border-radius: 50%;\n",
              "      cursor: pointer;\n",
              "      display: none;\n",
              "      fill: #1967D2;\n",
              "      height: 32px;\n",
              "      padding: 0 0 0 0;\n",
              "      width: 32px;\n",
              "    }\n",
              "\n",
              "    .colab-df-convert:hover {\n",
              "      background-color: #E2EBFA;\n",
              "      box-shadow: 0px 1px 2px rgba(60, 64, 67, 0.3), 0px 1px 3px 1px rgba(60, 64, 67, 0.15);\n",
              "      fill: #174EA6;\n",
              "    }\n",
              "\n",
              "    .colab-df-buttons div {\n",
              "      margin-bottom: 4px;\n",
              "    }\n",
              "\n",
              "    [theme=dark] .colab-df-convert {\n",
              "      background-color: #3B4455;\n",
              "      fill: #D2E3FC;\n",
              "    }\n",
              "\n",
              "    [theme=dark] .colab-df-convert:hover {\n",
              "      background-color: #434B5C;\n",
              "      box-shadow: 0px 1px 3px 1px rgba(0, 0, 0, 0.15);\n",
              "      filter: drop-shadow(0px 1px 2px rgba(0, 0, 0, 0.3));\n",
              "      fill: #FFFFFF;\n",
              "    }\n",
              "  </style>\n",
              "\n",
              "    <script>\n",
              "      const buttonEl =\n",
              "        document.querySelector('#df-5bc648ca-29ae-48a5-a494-72f1aa32c561 button.colab-df-convert');\n",
              "      buttonEl.style.display =\n",
              "        google.colab.kernel.accessAllowed ? 'block' : 'none';\n",
              "\n",
              "      async function convertToInteractive(key) {\n",
              "        const element = document.querySelector('#df-5bc648ca-29ae-48a5-a494-72f1aa32c561');\n",
              "        const dataTable =\n",
              "          await google.colab.kernel.invokeFunction('convertToInteractive',\n",
              "                                                    [key], {});\n",
              "        if (!dataTable) return;\n",
              "\n",
              "        const docLinkHtml = 'Like what you see? Visit the ' +\n",
              "          '<a target=\"_blank\" href=https://colab.research.google.com/notebooks/data_table.ipynb>data table notebook</a>'\n",
              "          + ' to learn more about interactive tables.';\n",
              "        element.innerHTML = '';\n",
              "        dataTable['output_type'] = 'display_data';\n",
              "        await google.colab.output.renderOutput(dataTable, element);\n",
              "        const docLink = document.createElement('div');\n",
              "        docLink.innerHTML = docLinkHtml;\n",
              "        element.appendChild(docLink);\n",
              "      }\n",
              "    </script>\n",
              "  </div>\n",
              "\n",
              "\n",
              "    <div id=\"df-877f7ae0-8fd8-4392-a27e-515a1ef867ab\">\n",
              "      <button class=\"colab-df-quickchart\" onclick=\"quickchart('df-877f7ae0-8fd8-4392-a27e-515a1ef867ab')\"\n",
              "                title=\"Suggest charts\"\n",
              "                style=\"display:none;\">\n",
              "\n",
              "<svg xmlns=\"http://www.w3.org/2000/svg\" height=\"24px\"viewBox=\"0 0 24 24\"\n",
              "     width=\"24px\">\n",
              "    <g>\n",
              "        <path d=\"M19 3H5c-1.1 0-2 .9-2 2v14c0 1.1.9 2 2 2h14c1.1 0 2-.9 2-2V5c0-1.1-.9-2-2-2zM9 17H7v-7h2v7zm4 0h-2V7h2v10zm4 0h-2v-4h2v4z\"/>\n",
              "    </g>\n",
              "</svg>\n",
              "      </button>\n",
              "\n",
              "<style>\n",
              "  .colab-df-quickchart {\n",
              "      --bg-color: #E8F0FE;\n",
              "      --fill-color: #1967D2;\n",
              "      --hover-bg-color: #E2EBFA;\n",
              "      --hover-fill-color: #174EA6;\n",
              "      --disabled-fill-color: #AAA;\n",
              "      --disabled-bg-color: #DDD;\n",
              "  }\n",
              "\n",
              "  [theme=dark] .colab-df-quickchart {\n",
              "      --bg-color: #3B4455;\n",
              "      --fill-color: #D2E3FC;\n",
              "      --hover-bg-color: #434B5C;\n",
              "      --hover-fill-color: #FFFFFF;\n",
              "      --disabled-bg-color: #3B4455;\n",
              "      --disabled-fill-color: #666;\n",
              "  }\n",
              "\n",
              "  .colab-df-quickchart {\n",
              "    background-color: var(--bg-color);\n",
              "    border: none;\n",
              "    border-radius: 50%;\n",
              "    cursor: pointer;\n",
              "    display: none;\n",
              "    fill: var(--fill-color);\n",
              "    height: 32px;\n",
              "    padding: 0;\n",
              "    width: 32px;\n",
              "  }\n",
              "\n",
              "  .colab-df-quickchart:hover {\n",
              "    background-color: var(--hover-bg-color);\n",
              "    box-shadow: 0 1px 2px rgba(60, 64, 67, 0.3), 0 1px 3px 1px rgba(60, 64, 67, 0.15);\n",
              "    fill: var(--button-hover-fill-color);\n",
              "  }\n",
              "\n",
              "  .colab-df-quickchart-complete:disabled,\n",
              "  .colab-df-quickchart-complete:disabled:hover {\n",
              "    background-color: var(--disabled-bg-color);\n",
              "    fill: var(--disabled-fill-color);\n",
              "    box-shadow: none;\n",
              "  }\n",
              "\n",
              "  .colab-df-spinner {\n",
              "    border: 2px solid var(--fill-color);\n",
              "    border-color: transparent;\n",
              "    border-bottom-color: var(--fill-color);\n",
              "    animation:\n",
              "      spin 1s steps(1) infinite;\n",
              "  }\n",
              "\n",
              "  @keyframes spin {\n",
              "    0% {\n",
              "      border-color: transparent;\n",
              "      border-bottom-color: var(--fill-color);\n",
              "      border-left-color: var(--fill-color);\n",
              "    }\n",
              "    20% {\n",
              "      border-color: transparent;\n",
              "      border-left-color: var(--fill-color);\n",
              "      border-top-color: var(--fill-color);\n",
              "    }\n",
              "    30% {\n",
              "      border-color: transparent;\n",
              "      border-left-color: var(--fill-color);\n",
              "      border-top-color: var(--fill-color);\n",
              "      border-right-color: var(--fill-color);\n",
              "    }\n",
              "    40% {\n",
              "      border-color: transparent;\n",
              "      border-right-color: var(--fill-color);\n",
              "      border-top-color: var(--fill-color);\n",
              "    }\n",
              "    60% {\n",
              "      border-color: transparent;\n",
              "      border-right-color: var(--fill-color);\n",
              "    }\n",
              "    80% {\n",
              "      border-color: transparent;\n",
              "      border-right-color: var(--fill-color);\n",
              "      border-bottom-color: var(--fill-color);\n",
              "    }\n",
              "    90% {\n",
              "      border-color: transparent;\n",
              "      border-bottom-color: var(--fill-color);\n",
              "    }\n",
              "  }\n",
              "</style>\n",
              "\n",
              "      <script>\n",
              "        async function quickchart(key) {\n",
              "          const quickchartButtonEl =\n",
              "            document.querySelector('#' + key + ' button');\n",
              "          quickchartButtonEl.disabled = true;  // To prevent multiple clicks.\n",
              "          quickchartButtonEl.classList.add('colab-df-spinner');\n",
              "          try {\n",
              "            const charts = await google.colab.kernel.invokeFunction(\n",
              "                'suggestCharts', [key], {});\n",
              "          } catch (error) {\n",
              "            console.error('Error during call to suggestCharts:', error);\n",
              "          }\n",
              "          quickchartButtonEl.classList.remove('colab-df-spinner');\n",
              "          quickchartButtonEl.classList.add('colab-df-quickchart-complete');\n",
              "        }\n",
              "        (() => {\n",
              "          let quickchartButtonEl =\n",
              "            document.querySelector('#df-877f7ae0-8fd8-4392-a27e-515a1ef867ab button');\n",
              "          quickchartButtonEl.style.display =\n",
              "            google.colab.kernel.accessAllowed ? 'block' : 'none';\n",
              "        })();\n",
              "      </script>\n",
              "    </div>\n",
              "\n",
              "    </div>\n",
              "  </div>\n"
            ],
            "application/vnd.google.colaboratory.intrinsic+json": {
              "type": "dataframe"
            }
          },
          "metadata": {}
        },
        {
          "output_type": "stream",
          "name": "stdout",
          "text": [
            "\n",
            "Distribuição da classe (0=legítima, 1=fraude):\n"
          ]
        },
        {
          "output_type": "display_data",
          "data": {
            "text/plain": [
              "Class\n",
              "0    99.827251\n",
              "1     0.172749\n",
              "Name: proporção (%), dtype: float64"
            ],
            "text/html": [
              "<div>\n",
              "<style scoped>\n",
              "    .dataframe tbody tr th:only-of-type {\n",
              "        vertical-align: middle;\n",
              "    }\n",
              "\n",
              "    .dataframe tbody tr th {\n",
              "        vertical-align: top;\n",
              "    }\n",
              "\n",
              "    .dataframe thead th {\n",
              "        text-align: right;\n",
              "    }\n",
              "</style>\n",
              "<table border=\"1\" class=\"dataframe\">\n",
              "  <thead>\n",
              "    <tr style=\"text-align: right;\">\n",
              "      <th></th>\n",
              "      <th>proporção (%)</th>\n",
              "    </tr>\n",
              "    <tr>\n",
              "      <th>Class</th>\n",
              "      <th></th>\n",
              "    </tr>\n",
              "  </thead>\n",
              "  <tbody>\n",
              "    <tr>\n",
              "      <th>0</th>\n",
              "      <td>99.827251</td>\n",
              "    </tr>\n",
              "    <tr>\n",
              "      <th>1</th>\n",
              "      <td>0.172749</td>\n",
              "    </tr>\n",
              "  </tbody>\n",
              "</table>\n",
              "</div><br><label><b>dtype:</b> float64</label>"
            ]
          },
          "metadata": {}
        }
      ]
    },
    {
      "cell_type": "markdown",
      "source": [
        "## Split estratificado e seleção de colunas\n",
        "\n",
        "- **Target**: `Class`\n",
        "- **Features**: todas as demais (`Time`, `V1...V28`, `Amount`)\n",
        "- Split: 80% treino / 20% teste, **estratificado**.\n"
      ],
      "metadata": {
        "id": "MxqMR7F1ueAl"
      }
    },
    {
      "cell_type": "code",
      "source": [
        "TARGET = \"Class\"\n",
        "X = df.drop(columns=[TARGET])\n",
        "y = df[TARGET].astype(int)\n",
        "\n",
        "X_train, X_test, y_train, y_test = train_test_split(\n",
        "    X, y, test_size=0.20, random_state=SEED, stratify=y\n",
        ")\n",
        "\n",
        "X_train.shape, X_test.shape, y_train.mean(), y_test.mean()\n"
      ],
      "metadata": {
        "colab": {
          "base_uri": "https://localhost:8080/"
        },
        "id": "8baRT_XUueVs",
        "outputId": "31c45c83-c182-4e99-c7a9-2bdc80beca7d"
      },
      "execution_count": null,
      "outputs": [
        {
          "output_type": "execute_result",
          "data": {
            "text/plain": [
              "((227845, 30),\n",
              " (56962, 30),\n",
              " np.float64(0.001729245759178389),\n",
              " np.float64(0.0017204452090867595))"
            ]
          },
          "metadata": {},
          "execution_count": 5
        }
      ]
    },
    {
      "cell_type": "markdown",
      "source": [
        "## Pré-processamento\n",
        "\n",
        "- As variáveis `V1...V28` já estão (em geral) padronizadas.\n",
        "- Padronizamos **`Amount`** e **`Time`**.\n",
        "- Demais colunas seguem **`passthrough`**.\n"
      ],
      "metadata": {
        "id": "h4MBGHmSuejH"
      }
    },
    {
      "cell_type": "code",
      "source": [
        "num_cols_to_scale = [c for c in [\"Amount\", \"Time\"] if c in X_train.columns]\n",
        "\n",
        "preprocess = ColumnTransformer(\n",
        "    transformers=[(\"scale_num\", StandardScaler(), num_cols_to_scale)],\n",
        "    remainder=\"passthrough\",\n",
        "    verbose_feature_names_out=False\n",
        ").set_output(transform=\"default\")\n",
        "\n",
        "num_cols_to_scale\n"
      ],
      "metadata": {
        "colab": {
          "base_uri": "https://localhost:8080/"
        },
        "id": "AphI0cUTueu_",
        "outputId": "d0a662c7-2bf4-4919-e47e-610dbf586cf5"
      },
      "execution_count": null,
      "outputs": [
        {
          "output_type": "execute_result",
          "data": {
            "text/plain": [
              "['Amount', 'Time']"
            ]
          },
          "metadata": {},
          "execution_count": 6
        }
      ]
    },
    {
      "cell_type": "markdown",
      "source": [
        "## Modelo Baseline (MLP)\n",
        "\n",
        "- MLP (Keras) com `n_hidden`, `units`, `dropout`, `activation`.\n",
        "- Otimizador **Adam** e métrica **AUC** no `compile`.\n",
        "- **Class weights** para lidar com desbalanceamento.\n",
        "- **EarlyStopping** com `monitor='val_auc'`.\n"
      ],
      "metadata": {
        "id": "GQRLucUque8F"
      }
    },
    {
      "cell_type": "code",
      "source": [
        "def build_mlp(meta, learning_rate=1e-3, units=32, n_hidden=2, dropout=0.2, activation=\"relu\"):\n",
        "    n_features = meta[\"n_features_in_\"]\n",
        "    model = tf.keras.Sequential()\n",
        "    model.add(tf.keras.layers.Input(shape=(n_features,)))\n",
        "    for _ in range(int(n_hidden)):\n",
        "        model.add(tf.keras.layers.Dense(int(units), activation=activation))\n",
        "        if dropout and dropout > 0:\n",
        "            model.add(tf.keras.layers.Dropout(float(dropout)))\n",
        "    model.add(tf.keras.layers.Dense(1, activation=\"sigmoid\"))\n",
        "\n",
        "    opt = tf.keras.optimizers.Adam(learning_rate=float(learning_rate))\n",
        "    model.compile(optimizer=opt, loss=\"binary_crossentropy\", metrics=[tf.keras.metrics.AUC(name=\"auc\")])\n",
        "    return model\n",
        "\n",
        "# class weights balanceados\n",
        "classes = np.array([0, 1])\n",
        "cw = compute_class_weight(class_weight=\"balanced\", classes=classes, y=y_train)\n",
        "class_weight_dict = {0: cw[0], 1: cw[1]}\n",
        "class_weight_dict\n",
        "\n",
        "early_stop = tf.keras.callbacks.EarlyStopping(\n",
        "    monitor=\"val_auc\", mode=\"max\", patience=3, restore_best_weights=True\n",
        ")\n",
        "\n",
        "clf = KerasClassifier(\n",
        "    model=build_mlp,\n",
        "    epochs=20,\n",
        "    batch_size=4096,\n",
        "    verbose=0,\n",
        "    random_state=SEED,\n",
        ")\n",
        "\n",
        "pipe_baseline = Pipeline([\n",
        "    (\"prep\", preprocess),\n",
        "    (\"clf\",  clf),\n",
        "])\n"
      ],
      "metadata": {
        "id": "SiMD3QZEufIb"
      },
      "execution_count": null,
      "outputs": []
    },
    {
      "cell_type": "markdown",
      "source": [
        "## Treinar baseline\n",
        "\n",
        "- 10% do treino vira *validation* (para EarlyStopping).\n",
        "- Usa `class_weight` para reduzir viés contra a minoria (fraude).\n"
      ],
      "metadata": {
        "id": "XnCa3BLJufSA"
      }
    },
    {
      "cell_type": "code",
      "source": [
        "pipe_baseline.set_params(\n",
        "    clf__fit__validation_split=0.10,\n",
        "    clf__fit__callbacks=[early_stop],\n",
        "    clf__fit__class_weight=class_weight_dict,\n",
        "\n",
        "    # hiperparâmetros \"default\" do baseline\n",
        "    clf__model__learning_rate=1e-3,\n",
        "    clf__model__units=32,\n",
        "    clf__model__n_hidden=2,\n",
        "    clf__model__dropout=0.2,\n",
        "    clf__model__activation=\"relu\",\n",
        ")\n",
        "\n",
        "pipe_baseline.fit(X_train, y_train)\n",
        "print(\"Baseline treinado.\")\n"
      ],
      "metadata": {
        "colab": {
          "base_uri": "https://localhost:8080/"
        },
        "id": "TsiOJrWLufaA",
        "outputId": "a377fe51-611c-43ef-9ded-293be3204fe1"
      },
      "execution_count": null,
      "outputs": [
        {
          "output_type": "stream",
          "name": "stdout",
          "text": [
            "Baseline treinado.\n"
          ]
        }
      ]
    },
    {
      "cell_type": "markdown",
      "source": [
        "## Funções de avaliação\n",
        "\n",
        "- Calcula **Accuracy, Precision, Recall, F1 e AUC-ROC**.\n",
        "- Mostra **classification_report** e curva ROC.\n"
      ],
      "metadata": {
        "id": "2KdYUFp8ufjv"
      }
    },
    {
      "cell_type": "code",
      "source": [
        "def evaluate(model, X_test, y_test, name=\"model\", threshold=0.5, plot_roc=True):\n",
        "    # tenta usar predict_proba do pipeline\n",
        "    try:\n",
        "        y_proba = model.predict_proba(X_test)[:, 1]\n",
        "    except:\n",
        "        # fallback: tenta acessar o clf interno\n",
        "        X_proc = model.named_steps[\"prep\"].transform(X_test)\n",
        "        y_proba = model.named_steps[\"clf\"].predict_proba(X_proc)[:, 1]\n",
        "\n",
        "    y_pred = (y_proba >= threshold).astype(int)\n",
        "\n",
        "    acc = accuracy_score(y_test, y_pred)\n",
        "    prec, rec, f1, _ = precision_recall_fscore_support(y_test, y_pred, average=\"binary\", zero_division=0)\n",
        "    auc = roc_auc_score(y_test, y_proba)\n",
        "\n",
        "    print(\"=\"*50)\n",
        "    print(f\"[{name}]\")\n",
        "    print(f\"Accuracy : {acc:.4f}\")\n",
        "    print(f\"Precision: {prec:.4f}\")\n",
        "    print(f\"Recall   : {rec:.4f}\")\n",
        "    print(f\"F1-score : {f1:.4f}\")\n",
        "    print(f\"AUC-ROC  : {auc:.4f}\")\n",
        "    print(\"=\"*50)\n",
        "    print(classification_report(y_test, y_pred, digits=4))\n",
        "\n",
        "    if plot_roc:\n",
        "        fpr, tpr, _ = roc_curve(y_test, y_proba)\n",
        "        plt.figure(figsize=(5,4))\n",
        "        plt.plot(fpr, tpr, label=f\"{name} (AUC={auc:.4f})\")\n",
        "        plt.plot([0,1], [0,1], linestyle=\"--\")\n",
        "        plt.xlabel(\"FPR\"); plt.ylabel(\"TPR\"); plt.title(\"ROC\")\n",
        "        plt.legend(); plt.grid(True); plt.show()\n",
        "\n",
        "    return {\"model\": name, \"accuracy\": acc, \"precision\": prec, \"recall\": rec, \"f1\": f1, \"auc\": auc}\n"
      ],
      "metadata": {
        "id": "-gw2_3QDufqk"
      },
      "execution_count": null,
      "outputs": []
    },
    {
      "cell_type": "code",
      "source": [
        "baseline_metrics = evaluate(pipe_baseline, X_test, y_test, name=\"Baseline\")\n",
        "baseline_metrics\n"
      ],
      "metadata": {
        "colab": {
          "base_uri": "https://localhost:8080/",
          "height": 809
        },
        "id": "2QYyREK6xhb4",
        "outputId": "e6d9fd26-dddd-4edb-b70c-8663dc08ea77"
      },
      "execution_count": null,
      "outputs": [
        {
          "output_type": "stream",
          "name": "stdout",
          "text": [
            "==================================================\n",
            "[Baseline]\n",
            "Accuracy : 0.9738\n",
            "Precision: 0.0566\n",
            "Recall   : 0.9082\n",
            "F1-score : 0.1066\n",
            "AUC-ROC  : 0.9812\n",
            "==================================================\n",
            "              precision    recall  f1-score   support\n",
            "\n",
            "           0     0.9998    0.9739    0.9867     56864\n",
            "           1     0.0566    0.9082    0.1066        98\n",
            "\n",
            "    accuracy                         0.9738     56962\n",
            "   macro avg     0.5282    0.9410    0.5466     56962\n",
            "weighted avg     0.9982    0.9738    0.9852     56962\n",
            "\n"
          ]
        },
        {
          "output_type": "display_data",
          "data": {
            "text/plain": [
              "<Figure size 500x400 with 1 Axes>"
            ],
            "image/png": "[encoded data removed]"
          },
          "metadata": {}
        },
        {
          "output_type": "execute_result",
          "data": {
            "text/plain": [
              "{'model': 'Baseline',\n",
              " 'accuracy': 0.973807099469822,\n",
              " 'precision': 0.056615776081424936,\n",
              " 'recall': 0.9081632653061225,\n",
              " 'f1': 0.10658682634730539,\n",
              " 'auc': np.float64(0.9811822766529233)}"
            ]
          },
          "metadata": {},
          "execution_count": 20
        }
      ]
    },
    {
      "cell_type": "markdown",
      "source": [
        "## Tuning de Hiperparâmetros\n",
        "\n",
        "**Estratégia**\n",
        "- *Scoring*: **ROC AUC** (melhor para desbalanceamento).\n",
        "- **GridSearchCV** (pequena malha, garantida).\n",
        "- **RandomizedSearchCV** (espaço maior, amostrado).\n",
        "\n",
        "**Hiperparâmetros (MLP)**\n",
        "- `learning_rate` ∈ {3e-4, 1e-3, 3e-3}\n",
        "- `units` ∈ {16, 32, 64}\n",
        "- `n_hidden` ∈ {1, 2, 3}\n",
        "- `dropout` ∈ {0.0, 0.2, 0.4}\n",
        "- `activation` ∈ {\"relu\", \"elu\"}\n",
        "- `batch_size` ∈ {2048, 4096}\n",
        "- `epochs` ∈ {30, 50}\n"
      ],
      "metadata": {
        "id": "dfIXllaOufxy"
      }
    },
    {
      "cell_type": "code",
      "source": [
        "cv = StratifiedKFold(n_splits=3, shuffle=True, random_state=SEED)\n",
        "\n",
        "param_grid = {\n",
        "    \"clf__model__learning_rate\": [3e-4, 1e-3, 3e-3],\n",
        "    \"clf__model__units\": [16, 32, 64],\n",
        "    \"clf__model__n_hidden\": [1, 2, 3],\n",
        "    \"clf__model__dropout\": [0.0, 0.2, 0.4],\n",
        "    \"clf__model__activation\": [\"relu\", \"elu\"],\n",
        "    \"clf__batch_size\": [2048, 4096],\n",
        "    \"clf__epochs\": [30, 50],\n",
        "\n",
        "    # fixos para o fit durante o CV:\n",
        "    \"clf__fit__validation_split\": [0.10],\n",
        "    \"clf__fit__class_weight\": [class_weight_dict],\n",
        "    \"clf__fit__callbacks\": [[early_stop]],\n",
        "}\n",
        "\n",
        "grid = GridSearchCV(\n",
        "    estimator=Pipeline([(\"prep\", preprocess), (\"clf\", KerasClassifier(model=build_mlp, verbose=0, random_state=SEED))]),\n",
        "    param_grid=param_grid,\n",
        "    scoring=\"roc_auc\",\n",
        "    cv=cv,\n",
        "    refit=True,\n",
        "    n_jobs=-1,\n",
        "    verbose=1\n",
        ")\n",
        "\n",
        "grid.fit(X_train, y_train)\n",
        "print(\"Melhor (GridSearch):\", grid.best_score_, grid.best_params_)\n"
      ],
      "metadata": {
        "colab": {
          "base_uri": "https://localhost:8080/"
        },
        "id": "CZ0Kw69zxpvb",
        "outputId": "011d405e-db9d-4333-ee79-ae5efb51a54e"
      },
      "execution_count": null,
      "outputs": [
        {
          "output_type": "stream",
          "name": "stdout",
          "text": [
            "Fitting 3 folds for each of 648 candidates, totalling 1944 fits\n",
            "Melhor (GridSearch): nan {'clf__batch_size': 2048, 'clf__epochs': 30, 'clf__fit__callbacks': [<keras.src.callbacks.early_stopping.EarlyStopping object at 0x79c3ece7dc70>], 'clf__fit__class_weight': {0: np.float64(0.5008661206149896), 1: np.float64(289.14340101522845)}, 'clf__fit__validation_split': 0.1, 'clf__model__activation': 'relu', 'clf__model__dropout': 0.0, 'clf__model__learning_rate': 0.0003, 'clf__model__n_hidden': 1, 'clf__model__units': 16}\n"
          ]
        }
      ]
    },
    {
      "cell_type": "markdown",
      "source": [
        "## Avaliar o melhor do GridSearch\n",
        "\n",
        "- Refit já foi feito no `grid.best_estimator_`.\n",
        "- Medimos as métricas no **conjunto de teste**.\n"
      ],
      "metadata": {
        "id": "FJGLAIpTuTS7"
      }
    },
    {
      "cell_type": "code",
      "source": [
        "grid_metrics = evaluate(grid.best_estimator_, X_test, y_test, name=\"GridSearch (best)\")\n",
        "grid_metrics\n"
      ],
      "metadata": {
        "colab": {
          "base_uri": "https://localhost:8080/",
          "height": 809
        },
        "id": "11pOkOJvxqZl",
        "outputId": "55b76137-7623-49bc-db35-657543e3c247"
      },
      "execution_count": null,
      "outputs": [
        {
          "output_type": "stream",
          "name": "stdout",
          "text": [
            "==================================================\n",
            "[GridSearch (best)]\n",
            "Accuracy : 0.9767\n",
            "Precision: 0.0640\n",
            "Recall   : 0.9184\n",
            "F1-score : 0.1196\n",
            "AUC-ROC  : 0.9805\n",
            "==================================================\n",
            "              precision    recall  f1-score   support\n",
            "\n",
            "           0     0.9999    0.9768    0.9882     56864\n",
            "           1     0.0640    0.9184    0.1196        98\n",
            "\n",
            "    accuracy                         0.9767     56962\n",
            "   macro avg     0.5319    0.9476    0.5539     56962\n",
            "weighted avg     0.9982    0.9767    0.9867     56962\n",
            "\n"
          ]
        },
        {
          "output_type": "display_data",
          "data": {
            "text/plain": [
              "<Figure size 500x400 with 1 Axes>"
            ],
            "image/png": "[encoded data removed]"
          },
          "metadata": {}
        },
        {
          "output_type": "execute_result",
          "data": {
            "text/plain": [
              "{'model': 'GridSearch (best)',\n",
              " 'accuracy': 0.9767388785506127,\n",
              " 'precision': 0.06396588486140725,\n",
              " 'recall': 0.9183673469387755,\n",
              " 'f1': 0.11960132890365449,\n",
              " 'auc': np.float64(0.9804662826019548)}"
            ]
          },
          "metadata": {},
          "execution_count": 22
        }
      ]
    },
    {
      "cell_type": "markdown",
      "source": [
        "## RandomizedSearchCV\n",
        "\n",
        "- Busca aleatória em espaço um pouco maior.\n",
        "- `n_iter` pequeno para tempo razoável (ajuste se quiser explorar mais).\n"
      ],
      "metadata": {
        "id": "ovi7_rrzxqhL"
      }
    },
    {
      "cell_type": "code",
      "source": [
        "from scipy.stats import randint, uniform, loguniform\n",
        "\n",
        "param_dist = {\n",
        "    \"clf__model__learning_rate\": loguniform(1e-4, 1e-2),\n",
        "    \"clf__model__units\": randint(16, 97),          # 16..96\n",
        "    \"clf__model__n_hidden\": randint(1, 4),         # 1..3\n",
        "    \"clf__model__dropout\": uniform(0.0, 0.5),      # 0.0..0.5\n",
        "    \"clf__model__activation\": [\"relu\", \"elu\"],\n",
        "    \"clf__batch_size\": [1024, 2048, 4096],\n",
        "    \"clf__epochs\": [30, 40, 50],\n",
        "\n",
        "    \"clf__fit__validation_split\": [0.10],\n",
        "    \"clf__fit__class_weight\": [class_weight_dict],\n",
        "    \"clf__fit__callbacks\": [[early_stop]],\n",
        "}\n",
        "\n",
        "rnd = RandomizedSearchCV(\n",
        "    estimator=Pipeline([(\"prep\", preprocess), (\"clf\", KerasClassifier(model=build_mlp, verbose=0, random_state=SEED))]),\n",
        "    param_distributions=param_dist,\n",
        "    n_iter=12,\n",
        "    scoring=\"roc_auc\",\n",
        "    cv=cv,\n",
        "    refit=True,\n",
        "    n_jobs=-1,\n",
        "    random_state=SEED,\n",
        "    verbose=1,\n",
        ")\n",
        "\n",
        "rnd.fit(X_train, y_train)\n",
        "print(\"Melhor (Randomized):\", rnd.best_score_, rnd.best_params_)\n"
      ],
      "metadata": {
        "colab": {
          "base_uri": "https://localhost:8080/"
        },
        "id": "vTDcwvrExqnf",
        "outputId": "70554130-f128-4a18-822f-cfef20d98542"
      },
      "execution_count": null,
      "outputs": [
        {
          "output_type": "stream",
          "name": "stdout",
          "text": [
            "Fitting 3 folds for each of 12 candidates, totalling 36 fits\n",
            "Melhor (Randomized): nan {'clf__batch_size': 4096, 'clf__epochs': 30, 'clf__fit__callbacks': [<keras.src.callbacks.early_stopping.EarlyStopping object at 0x79c3ece7dc70>], 'clf__fit__class_weight': {0: np.float64(0.5008661206149896), 1: np.float64(289.14340101522845)}, 'clf__fit__validation_split': 0.1, 'clf__model__activation': 'relu', 'clf__model__dropout': np.float64(0.36599697090570255), 'clf__model__learning_rate': np.float64(0.0015751320499779737), 'clf__model__n_hidden': 3, 'clf__model__units': 90}\n"
          ]
        }
      ]
    },
    {
      "cell_type": "markdown",
      "source": [
        "## Avaliar o melhor do RandomizedSearch\n",
        "\n",
        "- Também avaliamos no **conjunto de teste**.\n"
      ],
      "metadata": {
        "id": "DyfFcfE-xqt1"
      }
    },
    {
      "cell_type": "code",
      "source": [
        "random_metrics = evaluate(rnd.best_estimator_, X_test, y_test, name=\"RandomizedSearch (best)\")\n",
        "random_metrics\n"
      ],
      "metadata": {
        "colab": {
          "base_uri": "https://localhost:8080/",
          "height": 809
        },
        "id": "svSNkQPjxqzT",
        "outputId": "0669b202-8279-4be4-c2eb-6132953e3ace"
      },
      "execution_count": null,
      "outputs": [
        {
          "output_type": "stream",
          "name": "stdout",
          "text": [
            "==================================================\n",
            "[RandomizedSearch (best)]\n",
            "Accuracy : 0.9816\n",
            "Precision: 0.0788\n",
            "Recall   : 0.9082\n",
            "F1-score : 0.1451\n",
            "AUC-ROC  : 0.9809\n",
            "==================================================\n",
            "              precision    recall  f1-score   support\n",
            "\n",
            "           0     0.9998    0.9817    0.9907     56864\n",
            "           1     0.0788    0.9082    0.1451        98\n",
            "\n",
            "    accuracy                         0.9816     56962\n",
            "   macro avg     0.5393    0.9449    0.5679     56962\n",
            "weighted avg     0.9983    0.9816    0.9892     56962\n",
            "\n"
          ]
        },
        {
          "output_type": "display_data",
          "data": {
            "text/plain": [
              "<Figure size 500x400 with 1 Axes>"
            ],
            "image/png": "[encoded data removed]"
          },
          "metadata": {}
        },
        {
          "output_type": "execute_result",
          "data": {
            "text/plain": [
              "{'model': 'RandomizedSearch (best)',\n",
              " 'accuracy': 0.9815842140374285,\n",
              " 'precision': 0.07883082373782108,\n",
              " 'recall': 0.9081632653061225,\n",
              " 'f1': 0.14506927465362673,\n",
              " 'auc': np.float64(0.9809349087834346)}"
            ]
          },
          "metadata": {},
          "execution_count": 24
        }
      ]
    },
    {
      "cell_type": "markdown",
      "source": [
        "## Comparação Final\n",
        "\n",
        "- Tabela consolidada: **Baseline vs Grid vs Random**.\n",
        "- Destaca o **melhor AUC** e a variação nas métricas.\n"
      ],
      "metadata": {
        "id": "4vXiR3wlxq5Z"
      }
    },
    {
      "cell_type": "code",
      "source": [
        "res = pd.DataFrame([baseline_metrics, grid_metrics, random_metrics]).set_index(\"model\")\n",
        "display(res.style.format(\"{:.4f}\"))\n",
        "\n",
        "best_row = res.loc[res[\"auc\"].idxmax()]\n",
        "print(\"\\nMelhor modelo pelo AUC:\", res[\"auc\"].idxmax())\n",
        "print(best_row)\n",
        "\n",
        "# salva resultados\n",
        "res.to_csv(\"resultados_comparacao.csv\", index=True)\n",
        "print(\"\\nResultados salvos em resultados_comparacao.csv\")\n"
      ],
      "metadata": {
        "colab": {
          "base_uri": "https://localhost:8080/",
          "height": 348
        },
        "id": "gdW4TE_txq-8",
        "outputId": "cc480989-30ba-44fa-f875-1e2df9dd97ea"
      },
      "execution_count": null,
      "outputs": [
        {
          "output_type": "display_data",
          "data": {
            "text/plain": [
              "<pandas.io.formats.style.Styler at 0x79c3dcaf9e80>"
            ],
            "text/html": [
              "<style type=\"text/css\">\n",
              "</style>\n",
              "<table id=\"T_c7749\" class=\"dataframe\">\n",
              "  <thead>\n",
              "    <tr>\n",
              "      <th class=\"blank level0\" >&nbsp;</th>\n",
              "      <th id=\"T_c7749_level0_col0\" class=\"col_heading level0 col0\" >accuracy</th>\n",
              "      <th id=\"T_c7749_level0_col1\" class=\"col_heading level0 col1\" >precision</th>\n",
              "      <th id=\"T_c7749_level0_col2\" class=\"col_heading level0 col2\" >recall</th>\n",
              "      <th id=\"T_c7749_level0_col3\" class=\"col_heading level0 col3\" >f1</th>\n",
              "      <th id=\"T_c7749_level0_col4\" class=\"col_heading level0 col4\" >auc</th>\n",
              "    </tr>\n",
              "    <tr>\n",
              "      <th class=\"index_name level0\" >model</th>\n",
              "      <th class=\"blank col0\" >&nbsp;</th>\n",
              "      <th class=\"blank col1\" >&nbsp;</th>\n",
              "      <th class=\"blank col2\" >&nbsp;</th>\n",
              "      <th class=\"blank col3\" >&nbsp;</th>\n",
              "      <th class=\"blank col4\" >&nbsp;</th>\n",
              "    </tr>\n",
              "  </thead>\n",
              "  <tbody>\n",
              "    <tr>\n",
              "      <th id=\"T_c7749_level0_row0\" class=\"row_heading level0 row0\" >Baseline</th>\n",
              "      <td id=\"T_c7749_row0_col0\" class=\"data row0 col0\" >0.9738</td>\n",
              "      <td id=\"T_c7749_row0_col1\" class=\"data row0 col1\" >0.0566</td>\n",
              "      <td id=\"T_c7749_row0_col2\" class=\"data row0 col2\" >0.9082</td>\n",
              "      <td id=\"T_c7749_row0_col3\" class=\"data row0 col3\" >0.1066</td>\n",
              "      <td id=\"T_c7749_row0_col4\" class=\"data row0 col4\" >0.9812</td>\n",
              "    </tr>\n",
              "    <tr>\n",
              "      <th id=\"T_c7749_level0_row1\" class=\"row_heading level0 row1\" >GridSearch (best)</th>\n",
              "      <td id=\"T_c7749_row1_col0\" class=\"data row1 col0\" >0.9767</td>\n",
              "      <td id=\"T_c7749_row1_col1\" class=\"data row1 col1\" >0.0640</td>\n",
              "      <td id=\"T_c7749_row1_col2\" class=\"data row1 col2\" >0.9184</td>\n",
              "      <td id=\"T_c7749_row1_col3\" class=\"data row1 col3\" >0.1196</td>\n",
              "      <td id=\"T_c7749_row1_col4\" class=\"data row1 col4\" >0.9805</td>\n",
              "    </tr>\n",
              "    <tr>\n",
              "      <th id=\"T_c7749_level0_row2\" class=\"row_heading level0 row2\" >RandomizedSearch (best)</th>\n",
              "      <td id=\"T_c7749_row2_col0\" class=\"data row2 col0\" >0.9816</td>\n",
              "      <td id=\"T_c7749_row2_col1\" class=\"data row2 col1\" >0.0788</td>\n",
              "      <td id=\"T_c7749_row2_col2\" class=\"data row2 col2\" >0.9082</td>\n",
              "      <td id=\"T_c7749_row2_col3\" class=\"data row2 col3\" >0.1451</td>\n",
              "      <td id=\"T_c7749_row2_col4\" class=\"data row2 col4\" >0.9809</td>\n",
              "    </tr>\n",
              "  </tbody>\n",
              "</table>\n"
            ]
          },
          "metadata": {}
        },
        {
          "output_type": "stream",
          "name": "stdout",
          "text": [
            "\n",
            "Melhor modelo pelo AUC: Baseline\n",
            "accuracy     0.973807\n",
            "precision    0.056616\n",
            "recall       0.908163\n",
            "f1           0.106587\n",
            "auc          0.981182\n",
            "Name: Baseline, dtype: float64\n",
            "\n",
            "Resultados salvos em resultados_comparacao.csv\n"
          ]
        }
      ]
    },
    {
      "cell_type": "markdown",
      "source": [
        "## Conclusões\n",
        "\n",
        "O modelo **Baseline** apresentou AUC de **0.9812**, com Accuracy de **0.9738**. Apesar do AUC alto, o Recall ficou em **0.1066**, ou seja, o modelo ainda deixou passar muitas fraudes. A Precision foi **0.0566**, mostrando que, quando o modelo apontava fraude, a taxa de acerto não era tão boa.\n",
        "\n",
        "Após o ajuste de hiperparâmetros:\n",
        "- O **GridSearch** alcançou AUC de **0.9805**, com Recall de **0.1196** e Precision de **0.0640**. Houve pequena melhora em relação ao baseline, mas os ganhos foram limitados.\n",
        "- O **RandomizedSearch** obteve o melhor equilíbrio, com AUC de **0.9809**, Recall de **0.1451** e Precision de **0.0788**. Esse resultado indica que a busca aleatória conseguiu encontrar um conjunto de parâmetros mais adequado, aumentando a capacidade de identificar fraudes (Recall maior) e também melhorando a precisão das detecções.\n",
        "\n",
        "Em resumo, o tuning trouxe ganhos modestos em AUC, mas contribuiu principalmente para aumentar o Recall. Isso é relevante no contexto de detecção de fraudes, já que identificar mais casos suspeitos é mais importante do que manter alta precisão absoluta. Assim, o modelo otimizado via RandomizedSearch se mostrou o mais indicado dentro do experimento.\n"
      ],
      "metadata": {
        "id": "kodtk0-OxrM0"
      }
    },
    {
      "cell_type": "code",
      "source": [],
      "metadata": {
        "id": "TzypcZ5Hy2pj"
      },
      "execution_count": null,
      "outputs": []
    }
  ]
}